{
 "cells": [
  {
   "cell_type": "code",
   "execution_count": 32,
   "metadata": {},
   "outputs": [
    {
     "name": "stdout",
     "output_type": "stream",
     "text": [
      "0\n"
     ]
    }
   ],
   "source": [
    "\n",
    "def printBytestring(i: int):\n",
    "    sb = \"0b\"\n",
    "    bint = [b for b in bytearray(i.to_bytes(length=8)) if b > 0]\n",
    "    for b in  bint:\n",
    "        sb+= \"_\"+f\"{b:08b}\"\n",
    "    print(sb,f\"({i})\")\n",
    "\n",
    "def wrap(val: int, shift: int, dir=1) -> int:\n",
    "    \n",
    "\n",
    "x = range(7,37,3)\n",
    "maxval = 1280*720*4 #00111000_01000000\n",
    "print(127>>14)"
   ]
  }
 ],
 "metadata": {
  "kernelspec": {
   "display_name": "explorenv",
   "language": "python",
   "name": "python3"
  },
  "language_info": {
   "codemirror_mode": {
    "name": "ipython",
    "version": 3
   },
   "file_extension": ".py",
   "mimetype": "text/x-python",
   "name": "python",
   "nbconvert_exporter": "python",
   "pygments_lexer": "ipython3",
   "version": "3.12.8"
  }
 },
 "nbformat": 4,
 "nbformat_minor": 2
}
