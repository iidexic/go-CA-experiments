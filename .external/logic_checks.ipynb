{
 "cells": [
  {
   "cell_type": "code",
   "execution_count": null,
   "metadata": {},
   "outputs": [
    {
     "name": "stdout",
     "output_type": "stream",
     "text": [
      "[0, 5, 13, 349, 50, 2, 5, 3, 7, 4]\n",
      "<generator object genit at 0x00000220B9A9A080>\n"
     ]
    }
   ],
   "source": [
    "\n",
    "#> GENERAL TESTING 1\n",
    "def genit(l:list):\n",
    "    yield l\n",
    "fl = [0,5,13,349,50,2,5,3,7]\n",
    "fl+= [4]\n",
    "print(fl)\n",
    "print(genit(fl))"
   ]
  },
  {
   "cell_type": "code",
   "execution_count": 38,
   "metadata": {},
   "outputs": [
    {
     "name": "stdout",
     "output_type": "stream",
     "text": [
      "<class 'list'>  |  <class 'generator'>\n"
     ]
    }
   ],
   "source": [
    "\n",
    "#[ GENERAL TESTING  2 ]\n",
    "\n",
    "o1 = [i for i in range(0,10)]\n",
    "o2 = (i for i in range(0,10))\n",
    "print(type(o1), \" | \", type(o2))"
   ]
  },
  {
   "cell_type": "code",
   "execution_count": null,
   "metadata": {},
   "outputs": [
    {
     "name": "stderr",
     "output_type": "stream",
     "text": [
      "ic| nx: 'low', bx: 32, mdifX: 95, xorX: 160, xordX: 223\n",
      "ic| ny: 'hi', by: 188, mdifY: 61, xorY: 60, xordY: 189\n"
     ]
    },
    {
     "data": {
      "text/plain": [
       "('hi', 188, 61, 60, 189)"
      ]
     },
     "execution_count": 37,
     "metadata": {},
     "output_type": "execute_result"
    }
   ],
   "source": [
    "from random import randbytes\n",
    "from icecream import ic\n",
    "r = randbytes(1000)\n",
    "rlo = [b>>4 for b in r]\n",
    "\n",
    "nx = \"low\"\n",
    "ny = \"hi\"\n",
    "bx = 32\n",
    "by = 188\n",
    "mdifX = 127-32\n",
    "mdifY = 188-127\n",
    "op = 0b10000000\n",
    "xorX = bx^op\n",
    "xorY = by^op\n",
    "xordX = mdifX^op\n",
    "xordY = mdifY^op\n",
    "\n",
    "ic(nx, bx, mdifX, xorX, xordX)\n",
    "ic(ny, by, mdifY, xorY, xordY)\n",
    "\n",
    "\n",
    "\n",
    "# what are differences:\n"
   ]
  },
  {
   "cell_type": "code",
   "execution_count": null,
   "metadata": {},
   "outputs": [
    {
     "name": "stderr",
     "output_type": "stream",
     "text": [
      "ic| next(byt): 243\n",
      "ic| next(byt): [3]\n",
      "ic| next(byt): [15]\n",
      "ic| next(byt): [3]\n",
      "ic| next(byt): [240]\n",
      "ic| next(byt): [48]\n",
      "ic| next(byt): [243]\n",
      "ic| next(byt): [51]\n",
      "ic| next(byt): [15]\n",
      "ic| next(byt): [192]\n",
      "ic| byt: [243, 3, 15, 3, 240, 48, 243, 51, 15, 192]\n",
      "ic| byt: [199, 7, 12, 7, 192, 112, 199, 119, 12, 176]\n",
      "ic| byt: [22, 6, 1, 6, 16, 96, 22, 102, 1, 112]\n",
      "ic| byt: [67, 3, 4, 3, 64, 48, 67, 51, 4, 112]\n"
     ]
    }
   ],
   "source": [
    "\n",
    "#*= BYTE LOGIC TESTING 1\n",
    "#~ RUN FOR FUNCTIONS, IMPORTS\n",
    "#==============================\n",
    "from icecream import ic\n",
    "from random import randbytes\n",
    "\n",
    "mhi = 0b11110000 \n",
    "mlo = 0b00001111\n",
    "#df = pl.LazyFrame()\n",
    "#blist = randbytes(100000)\n",
    "\n",
    "\n",
    "\n",
    "def yieldall(bl:list):\n",
    "    ha, hb, la, lb, lc, x1, x2, x3, x4 = [],[],[],[],[],[],[],[],[]\n",
    "    for b in bl:\n",
    "        hiA_AND = b & mhi\n",
    "        hiB_LS_AND = (b<<4) & mhi\n",
    "        lowA_AND = b & mlo\n",
    "        lowB_RS = b>>4\n",
    "        lowC_LS_AND = hiB_LS_AND>>4\n",
    "\n",
    "        xor1 = hiA_AND^lowA_AND\n",
    "        xor2 = hiB_LS_AND^lowC_LS_AND\n",
    "        xor3 = lowA_AND^lowB_RS^lowC_LS_AND\n",
    "        xor4 = xor1^xor2\n",
    "        #bbyt = f'{b:08b}'\n",
    "        line = [b, lowA_AND,lowB_RS,lowC_LS_AND,hiA_AND,hiB_LS_AND,xor1,xor2,xor3,xor4]\n",
    "        lineg = []\n",
    "        yield line\n",
    "\n",
    "def genit(l:list):\n",
    "    yield l\n",
    "    \n",
    "def makegenerators(bl:list):\n",
    "    ha, hb, la, lb, lc, x1, x2, x3, x4 = [],[],[],[],[],[],[],[],[]\n",
    "    for i,b in enumerate(bl):\n",
    "        ha+= [b & mhi]\n",
    "        hb+= [(b<<4) & mhi]\n",
    "        la+= [b & mlo]\n",
    "        lb +=[ b>>4]\n",
    "        lc += [hb[i]>>4]\n",
    "\n",
    "        x1 += [ha[i]^la[i]]\n",
    "        x2 += [hb[i]^lc[i]]\n",
    "        x3 += [la[i]^lb[i]^lc[i]]\n",
    "        x4 += [x1[i]^x2[i]]\n",
    "        #bbyt = f'{b:08b}'\n",
    "        #lowA_AND,lowB_RS,lowC_LS_AND,hiA_AND,hiB_LS_AND,xor1,xor2,xor3,xor4\n",
    "        line = [genit(b), genit(la),genit(lb),genit(lc),genit(ha),\n",
    "                genit(hb),genit(x1),genit(x2),genit(x3),genit(x4)]\n",
    "        return line\n",
    "\n",
    "bt = randbytes(4)\n",
    "for byt in makegenerators(bt):\n",
    "    ic(next(byt))\n",
    "\n",
    "for byt in yieldall(bt):\n",
    "    ic(byt)\n",
    "#1. and trim\n",
    "\n"
   ]
  },
  {
   "cell_type": "code",
   "execution_count": 28,
   "metadata": {},
   "outputs": [
    {
     "name": "stdout",
     "output_type": "stream",
     "text": [
      "shape: (5_100, 10)\n",
      "┌──────┬──────────┬────────┬─────────────┬───┬─────────────┬─────────────┬────────────┬────────────┐\n",
      "│ BYTE ┆ lowA AND ┆ lowB   ┆ lowC        ┆ … ┆ XOR1h:      ┆ XOR2h:hiBxl ┆ XOR3l: low ┆ XOR4l:XOR1 │\n",
      "│ ---  ┆ ---      ┆ ShiftR ┆ ShiftAnd    ┆   ┆ hiAxlowA    ┆ owC         ┆ AxlowBxlow ┆ xXOR2      │\n",
      "│ i64  ┆ i64      ┆ ---    ┆ ---         ┆   ┆ ---         ┆ ---         ┆ C          ┆ ---        │\n",
      "│      ┆          ┆ i64    ┆ i64         ┆   ┆ i64         ┆ i64         ┆ ---        ┆ i64        │\n",
      "│      ┆          ┆        ┆             ┆   ┆             ┆             ┆ i64        ┆            │\n",
      "╞══════╪══════════╪════════╪═════════════╪═══╪═════════════╪═════════════╪════════════╪════════════╡\n",
      "│ 12   ┆ 12       ┆ 0      ┆ 12          ┆ … ┆ 12          ┆ 204         ┆ 0          ┆ 192        │\n",
      "│ 15   ┆ 15       ┆ 0      ┆ 15          ┆ … ┆ 15          ┆ 255         ┆ 0          ┆ 240        │\n",
      "│ 215  ┆ 7        ┆ 13     ┆ 7           ┆ … ┆ 215         ┆ 119         ┆ 13         ┆ 160        │\n",
      "│ 73   ┆ 9        ┆ 4      ┆ 9           ┆ … ┆ 73          ┆ 153         ┆ 4          ┆ 208        │\n",
      "│ 240  ┆ 0        ┆ 15     ┆ 0           ┆ … ┆ 240         ┆ 0           ┆ 15         ┆ 240        │\n",
      "│ …    ┆ …        ┆ …      ┆ …           ┆ … ┆ …           ┆ …           ┆ …          ┆ …          │\n",
      "│ 164  ┆ 4        ┆ 10     ┆ 4           ┆ … ┆ 164         ┆ 68          ┆ 10         ┆ 224        │\n",
      "│ 5    ┆ 5        ┆ 0      ┆ 5           ┆ … ┆ 5           ┆ 85          ┆ 0          ┆ 80         │\n",
      "│ 200  ┆ 8        ┆ 12     ┆ 8           ┆ … ┆ 200         ┆ 136         ┆ 12         ┆ 64         │\n",
      "│ 14   ┆ 14       ┆ 0      ┆ 14          ┆ … ┆ 14          ┆ 238         ┆ 0          ┆ 224        │\n",
      "│ 236  ┆ 12       ┆ 14     ┆ 12          ┆ … ┆ 236         ┆ 204         ┆ 14         ┆ 32         │\n",
      "└──────┴──────────┴────────┴─────────────┴───┴─────────────┴─────────────┴────────────┴────────────┘\n"
     ]
    }
   ],
   "source": [
    "import polars as pl\n",
    "import numpy as np\n",
    "#*= BYTE LOGIC TESTING 1\n",
    "#~ MAKE POLARS LAZYFRAME\n",
    "#==============================\n",
    "#schema:\n",
    "tb = type(mhi)\n",
    "columns = [\"BYTE\",\"lowA AND\",\"lowB ShiftR\",\"lowC ShiftAnd\",\"hiA AND\", \"hiB ShiftAnd\", \n",
    "           \"XOR1h: hiAxlowA\",\"XOR2h:hiBxlowC\", \"XOR3l: lowAxlowBxlowC\",\"XOR4l:XOR1xXOR2\"]\n",
    "schem = {\"BYTE\":tb,\"lowA AND\":tb,\n",
    "       \"lowB ShiftR\":tb,\"lowC ShiftAnd\":tb,\n",
    "       \"hiA AND\":tb,\"hiB ShiftAnd\":tb,\n",
    "       \"XOR1h: hiAxlowA\":tb,\"XOR2h:hiBxlowC\":tb,\n",
    "       \"XOR3l: lowAxlowBxlowC\":tb,\"XOR4l:XOR1xXOR2\":tb}\n",
    "#> Lazyframe Dataset:\n",
    "#> lzset = dict(zip(columns, makegenerators(randbytes(10000))))\n",
    "genr = yieldall(randbytes(5100))\n",
    "dl = [g for g in genr]\n",
    "arr = np.array(dl)\n",
    "df = pl.DataFrame(dl,columns,orient=\"row\")\n",
    "print(df)"
   ]
  },
  {
   "cell_type": "code",
   "execution_count": 61,
   "metadata": {},
   "outputs": [
    {
     "name": "stdout",
     "output_type": "stream",
     "text": [
      "shape: (5,)\n",
      "Series: 'BYTE' [i64]\n",
      "[\n",
      "\t12\n",
      "\t15\n",
      "\t215\n",
      "\t73\n",
      "\t240\n",
      "]\n",
      "<class 'polars.series.series.Series'>\n",
      "<class 'list'>\n",
      "[shape: (5_100,)\n",
      "Series: 'XOR2h:hiBxlowC' [i64]\n",
      "[\n",
      "\t204\n",
      "\t255\n",
      "\t119\n",
      "\t153\n",
      "\t0\n",
      "\t…\n",
      "\t68\n",
      "\t85\n",
      "\t136\n",
      "\t238\n",
      "\t204\n",
      "], shape: (5_100,)\n",
      "Series: 'XOR3l: lowAxlowBxlowC' [i64]\n",
      "[\n",
      "\t0\n",
      "\t0\n",
      "\t13\n",
      "\t4\n",
      "\t15\n",
      "\t…\n",
      "\t10\n",
      "\t0\n",
      "\t12\n",
      "\t0\n",
      "\t14\n",
      "], shape: (5_100,)\n",
      "Series: 'XOR4l:XOR1xXOR2' [i64]\n",
      "[\n",
      "\t192\n",
      "\t240\n",
      "\t160\n",
      "\t208\n",
      "\t240\n",
      "\t…\n",
      "\t224\n",
      "\t80\n",
      "\t64\n",
      "\t224\n",
      "\t32\n",
      "]]\n"
     ]
    }
   ],
   "source": [
    "# How to pull columns:\n",
    "col = df.get_column(\"BYTE\")\n",
    "\n",
    "multcol = df.get_columns()[7:]\n",
    "\n",
    "print(col.head(5))\n",
    "print(type(col))\n",
    "print(type(multcol))\n",
    "print(multcol)\n"
   ]
  },
  {
   "cell_type": "code",
   "execution_count": 67,
   "metadata": {},
   "outputs": [
    {
     "data": {
      "text/plain": [
       "<Axes: ylabel='Count'>"
      ]
     },
     "execution_count": 67,
     "metadata": {},
     "output_type": "execute_result"
    },
    {
     "data": {
      "image/png": "[encoded data removed]",
      "text/plain": [
       "<Figure size 640x480 with 1 Axes>"
      ]
     },
     "metadata": {},
     "output_type": "display_data"
    }
   ],
   "source": [
    "import seaborn as sns\n",
    "\n",
    "\n",
    "sns.histplot(df)\n",
    "#print(df['BYTE'])"
   ]
  }
 ],
 "metadata": {
  "kernelspec": {
   "display_name": "Python 3",
   "language": "python",
   "name": "python3"
  },
  "language_info": {
   "codemirror_mode": {
    "name": "ipython",
    "version": 3
   },
   "file_extension": ".py",
   "mimetype": "text/x-python",
   "name": "python",
   "nbconvert_exporter": "python",
   "pygments_lexer": "ipython3",
   "version": "3.13.1"
  }
 },
 "nbformat": 4,
 "nbformat_minor": 2
}
